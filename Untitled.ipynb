{
 "cells": [
  {
   "cell_type": "code",
   "execution_count": 24,
   "metadata": {
    "collapsed": true
   },
   "outputs": [],
   "source": [
    "import pandas as pd\n",
    "import numpy as np\n",
    "import matplotlib.pyplot as plt\n",
    "%matplotlib inline\n",
    "\n",
    "import seaborn as sns\n",
    "sns.set(color_codes=True)\n",
    "#sns.set_context('poster')\n",
    "plot_kwds = {'alpha' : 0.25, 's' : 80, 'linewidths':0}\n",
    "\n",
    "import sklearn as sk\n",
    "import sklearn.cluster as cluster\n",
    "from sklearn.metrics import confusion_matrix\n",
    "from sklearn.model_selection import train_test_split\n",
    "import time"
   ]
  },
  {
   "cell_type": "code",
   "execution_count": 17,
   "metadata": {
    "collapsed": false
   },
   "outputs": [],
   "source": [
    "# load cleaned data\n",
    "dtypespec = {\"weeks\": object, \"peak\": object, \"var9\": object, \"var10\": object, \"var11\": object, \"var12\": object, \"var13\": object}\n",
    "billboardDF = pd.read_csv('billboardDF.csv',sep=\",\",header='infer', dtype=dtypespec)\n",
    "evolutionDF = pd.read_csv('evolutionDF.csv',sep=\",\",header='infer')\n",
    "uniqueTracksDF = pd.read_csv('evolutionDF.csv',sep=\",\",header='infer')\n",
    "musicDF = pd.read_csv('musicDF.csv',sep=\",\",header='infer')\n",
    "musicSubset = pd.read_csv('musicSubset.csv',sep=\",\",header='infer')\n"
   ]
  },
  {
   "cell_type": "code",
   "execution_count": 30,
   "metadata": {
    "collapsed": false
   },
   "outputs": [],
   "source": [
    "#write cluster plot function to help us\n",
    "def plot_clusters(data, algorithm, args, kwds):\n",
    "    start_time = time.time()\n",
    "    labels = algorithm(*args, **kwds).fit_predict(data)\n",
    "    end_time = time.time()\n",
    "    silhouette_score = sk.metrics.silhouette_score(data, labels, metric='euclidean')\n",
    "    print(silhouette_score)\n",
    "    # palette = sns.color_palette('deep', np.unique(labels).max() + 1)\n",
    "    # colors = [palette[x] if x >= 0 else (0.0, 0.0, 0.0) for x in labels]\n",
    "    # plt.scatter(data.T[0], data.T[1], c=colors, **plot_kwds)\n",
    "    # frame = plt.gca()\n",
    "    # frame.axes.get_xaxis().set_visible(True)\n",
    "    # frame.axes.get_yaxis().set_visible(True)\n",
    "    # plt.title('Clusters found by {}'.format(str(algorithm.__name__)), fontsize=24)\n",
    "    # plt.text(-0.5, 0.7, 'Clustering took {:.2f} s'.format(end_time - start_time), fontsize=14)"
   ]
  },
  {
   "cell_type": "code",
   "execution_count": 50,
   "metadata": {
    "collapsed": false
   },
   "outputs": [
    {
     "name": "stdout",
     "output_type": "stream",
     "text": [
      "int64\n",
      "\r\n",
      "\n",
      "hTopic_01    float64\n",
      "hTopic_02    float64\n",
      "hTopic_03    float64\n",
      "hTopic_04    float64\n",
      "hTopic_05    float64\n",
      "hTopic_06    float64\n",
      "hTopic_07    float64\n",
      "hTopic_08    float64\n",
      "tTopic_01    float64\n",
      "tTopic_02    float64\n",
      "tTopic_03    float64\n",
      "tTopic_04    float64\n",
      "tTopic_05    float64\n",
      "tTopic_06    float64\n",
      "tTopic_07    float64\n",
      "tTopic_08    float64\n",
      "dtype: object\n"
     ]
    }
   ],
   "source": [
    "decade = musicSubset.ix[:, 9].copy()\n",
    "handt = musicSubset.ix[:, 12:28].copy()\n",
    "#clusterDF = decade + handt\n",
    "#clusterMat = clusterDF.as_matrix()\n",
    "print(decade.dtypes)\n",
    "print(\"\\r\\n\")\n",
    "print(handt.dtypes)"
   ]
  },
  {
   "cell_type": "code",
   "execution_count": null,
   "metadata": {
    "collapsed": true
   },
   "outputs": [],
   "source": [
    "plot_clusters(clusterMat,cluster.KMeans,(),{'n_clusters':5})"
   ]
  },
  {
   "cell_type": "code",
   "execution_count": 46,
   "metadata": {
    "collapsed": false
   },
   "outputs": [
    {
     "ename": "ValueError",
     "evalue": "zero-dimensional arrays cannot be concatenated",
     "output_type": "error",
     "traceback": [
      "\u001b[0;31m---------------------------------------------------------------------------\u001b[0m",
      "\u001b[0;31mValueError\u001b[0m                                Traceback (most recent call last)",
      "\u001b[0;32m<ipython-input-46-11accf7756cd>\u001b[0m in \u001b[0;36m<module>\u001b[0;34m()\u001b[0m\n\u001b[0;32m----> 1\u001b[0;31m \u001b[0mclusterDF\u001b[0m \u001b[1;33m=\u001b[0m \u001b[0mnp\u001b[0m\u001b[1;33m.\u001b[0m\u001b[0mma\u001b[0m\u001b[1;33m.\u001b[0m\u001b[0mconcatenate\u001b[0m\u001b[1;33m(\u001b[0m\u001b[1;33m[\u001b[0m\u001b[0mhandt\u001b[0m\u001b[1;33m,\u001b[0m \u001b[0mdecade\u001b[0m\u001b[1;33m]\u001b[0m\u001b[1;33m)\u001b[0m\u001b[1;33m\u001b[0m\u001b[0m\n\u001b[0m",
      "\u001b[0;32mC:\\ProgramData\\Anaconda3\\lib\\site-packages\\numpy\\ma\\core.py\u001b[0m in \u001b[0;36mconcatenate\u001b[0;34m(arrays, axis)\u001b[0m\n\u001b[1;32m   6578\u001b[0m \u001b[1;33m\u001b[0m\u001b[0m\n\u001b[1;32m   6579\u001b[0m     \"\"\"\n\u001b[0;32m-> 6580\u001b[0;31m     \u001b[0md\u001b[0m \u001b[1;33m=\u001b[0m \u001b[0mnp\u001b[0m\u001b[1;33m.\u001b[0m\u001b[0mconcatenate\u001b[0m\u001b[1;33m(\u001b[0m\u001b[1;33m[\u001b[0m\u001b[0mgetdata\u001b[0m\u001b[1;33m(\u001b[0m\u001b[0ma\u001b[0m\u001b[1;33m)\u001b[0m \u001b[1;32mfor\u001b[0m \u001b[0ma\u001b[0m \u001b[1;32min\u001b[0m \u001b[0marrays\u001b[0m\u001b[1;33m]\u001b[0m\u001b[1;33m,\u001b[0m \u001b[0maxis\u001b[0m\u001b[1;33m)\u001b[0m\u001b[1;33m\u001b[0m\u001b[0m\n\u001b[0m\u001b[1;32m   6581\u001b[0m     \u001b[0mrcls\u001b[0m \u001b[1;33m=\u001b[0m \u001b[0mget_masked_subclass\u001b[0m\u001b[1;33m(\u001b[0m\u001b[1;33m*\u001b[0m\u001b[0marrays\u001b[0m\u001b[1;33m)\u001b[0m\u001b[1;33m\u001b[0m\u001b[0m\n\u001b[1;32m   6582\u001b[0m     \u001b[0mdata\u001b[0m \u001b[1;33m=\u001b[0m \u001b[0md\u001b[0m\u001b[1;33m.\u001b[0m\u001b[0mview\u001b[0m\u001b[1;33m(\u001b[0m\u001b[0mrcls\u001b[0m\u001b[1;33m)\u001b[0m\u001b[1;33m\u001b[0m\u001b[0m\n",
      "\u001b[0;31mValueError\u001b[0m: zero-dimensional arrays cannot be concatenated"
     ]
    }
   ],
   "source": [
    "clusterDF = np.ma.concatenate([handt, decade])"
   ]
  },
  {
   "cell_type": "code",
   "execution_count": null,
   "metadata": {
    "collapsed": true
   },
   "outputs": [],
   "source": []
  }
 ],
 "metadata": {
  "kernelspec": {
   "display_name": "Python 3",
   "language": "python",
   "name": "python3"
  },
  "language_info": {
   "codemirror_mode": {
    "name": "ipython",
    "version": 3
   },
   "file_extension": ".py",
   "mimetype": "text/x-python",
   "name": "python",
   "nbconvert_exporter": "python",
   "pygments_lexer": "ipython3",
   "version": "3.6.0"
  }
 },
 "nbformat": 4,
 "nbformat_minor": 2
}
