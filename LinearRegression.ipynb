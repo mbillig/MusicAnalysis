{
 "cells": [
  {
   "cell_type": "code",
   "execution_count": 35,
   "metadata": {
    "collapsed": true
   },
   "outputs": [],
   "source": [
    "#all imports, library setups here\n",
    "import pandas as pd\n",
    "import numpy as np\n",
    "import matplotlib\n",
    "import matplotlib.pyplot as plt\n",
    "%matplotlib inline\n",
    "\n",
    "import itertools\n",
    "import sklearn as sk\n",
    "import sklearn.cluster as cluster\n",
    "from sklearn import linear_model, decomposition\n",
    "from sklearn.metrics import confusion_matrix\n",
    "from sklearn.model_selection import train_test_split\n"
   ]
  },
  {
   "cell_type": "code",
   "execution_count": 13,
   "metadata": {
    "collapsed": true
   },
   "outputs": [],
   "source": [
    "# http://scikit-learn.org/stable/auto_examples/model_selection/plot_confusion_matrix.html\n",
    "def plot_confusion_matrix(cm, classes,\n",
    "                          normalize=False,\n",
    "                          title='Confusion matrix',\n",
    "                          cmap=plt.cm.Blues):\n",
    "    \"\"\"\n",
    "    This function prints and plots the confusion matrix.\n",
    "    Normalization can be applied by setting `normalize=True`.\n",
    "    \"\"\"\n",
    "    \n",
    "    plt.imshow(cm, interpolation='nearest', cmap=cmap)\n",
    "    plt.title(title)\n",
    "    tick_marks = np.arange(len(classes))\n",
    "    plt.xticks(tick_marks, classes, rotation=45)\n",
    "    plt.yticks(tick_marks, classes)\n",
    "\n",
    "    if normalize==True:\n",
    "        cm = cm.astype('float') / cm.sum(axis=1)[:, np.newaxis]\n",
    "        print(\"Normalized confusion matrix\")\n",
    "    else:\n",
    "        print('Confusion matrix, without normalization')\n",
    "\n",
    "    print(cm)\n",
    "\n",
    "    thresh = cm.max() / 2.\n",
    "    cm = np.round(cm, 2)\n",
    "    for i, j in itertools.product(range(cm.shape[0]), range(cm.shape[1])):\n",
    "        plt.text(j, i, cm[i, j],\n",
    "                 horizontalalignment=\"center\",\n",
    "                 color=\"white\" if cm[i, j] > thresh else \"black\")\n",
    "\n",
    "    plt.tight_layout()\n",
    "    plt.colorbar()\n",
    "    plt.ylabel('True label')\n",
    "    plt.xlabel('Predicted label')\n"
   ]
  },
  {
   "cell_type": "code",
   "execution_count": 3,
   "metadata": {
    "collapsed": true
   },
   "outputs": [],
   "source": [
    "# load cleaned data\n",
    "dtypespec = {\"weeks\": object, \"peak\": object, \"var9\": object, \"var10\": object, \"var11\": object, \"var12\": object, \"var13\": object}\n",
    "billboardDF = pd.read_csv('billboardDF.csv',sep=\",\",header='infer', dtype=dtypespec)\n",
    "evolutionDF = pd.read_csv('evolutionDF.csv',sep=\",\",header='infer')\n",
    "uniqueTracksDF = pd.read_csv('evolutionDF.csv',sep=\",\",header='infer')\n",
    "musicDF = pd.read_csv('musicDF.csv',sep=\",\",header='infer')\n",
    "musicSubset = pd.read_csv('musicSubset.csv',sep=\",\",header='infer')\n",
    "clusterDF = musicSubset.ix[:, 12:28].copy()"
   ]
  },
  {
   "cell_type": "code",
   "execution_count": 46,
   "metadata": {
    "collapsed": true
   },
   "outputs": [],
   "source": [
    "# partition into testing and training\n",
    "trainingX, testingX, trainingYear, testingYear = train_test_split(clusterDF, musicSubset['year'], test_size=0.20, random_state=42)\n",
    "trainingX, testingX, trainingDecade, testingDecade = train_test_split(clusterDF, musicSubset['decade'], test_size=0.20, random_state=42)\n",
    "trainingX, testingX, trainingPeak, testingPeak = train_test_split(clusterDF, musicSubset['max_rank'], test_size=0.20, random_state=42)\n",
    "trainingX, testingX, trainingWeeks, testingWeeks = train_test_split(clusterDF, musicSubset['weeks'], test_size=0.20, random_state=42)\n"
   ]
  },
  {
   "cell_type": "code",
   "execution_count": 47,
   "metadata": {
    "collapsed": false
   },
   "outputs": [
    {
     "name": "stdout",
     "output_type": "stream",
     "text": [
      "0.214552188446\n",
      "1960.0\n",
      "2000.0\n",
      "Confusion matrix, without normalization\n",
      "[[ 17 289 636  90   5]\n",
      " [  6 127 492 123   6]\n",
      " [  1  31 340 172  13]\n",
      " [  3  22 196 197  74]\n",
      " [  0  16 282 224  57]]\n"
     ]
    },
    {
     "data": {
      "image/png": "[encoded data removed]",
      "text/plain": [
       "<matplotlib.figure.Figure at 0x233016e7898>"
      ]
     },
     "metadata": {},
     "output_type": "display_data"
    }
   ],
   "source": [
    "regr = linear_model.LinearRegression()\n",
    "res = regr.fit(trainingX, trainingDecade)\n",
    "print(regr.score(testingX, testingDecade))\n",
    "yHat = regr.predict(testingX)\n",
    "#conmat = sk.metrics.confusion_matrix(testingDecade, yHat)\n",
    "yHat = yHat - (yHat % 10) + 10\n",
    "print(min(yHat))\n",
    "print(max(yHat))\n",
    "testingDecade = testingDecade.as_matrix()\n",
    "conmat = sk.metrics.confusion_matrix(testingDecade, yHat)\n",
    "\n",
    "plt.figure()\n",
    "plot_confusion_matrix(conmat, classes=set(testingDecade), normalize=False,\n",
    "                      title='Confusion Matrix')\n",
    "\n",
    "plt.show()"
   ]
  },
  {
   "cell_type": "code",
   "execution_count": 21,
   "metadata": {
    "collapsed": false
   },
   "outputs": [
    {
     "data": {
      "text/plain": [
       "4.5"
      ]
     },
     "execution_count": 21,
     "metadata": {},
     "output_type": "execute_result"
    }
   ],
   "source": [
    "14.5 % 10"
   ]
  },
  {
   "cell_type": "code",
   "execution_count": 12,
   "metadata": {
    "collapsed": false
   },
   "outputs": [
    {
     "name": "stdout",
     "output_type": "stream",
     "text": [
      "0.081657183932\n"
     ]
    }
   ],
   "source": [
    "pca = sk.decomposition.PCA(n_components = 2)\n",
    "pca.fit(clusterDF)\n",
    "clusterPCA = pca.transform(clusterDF)\n",
    "trainingXpca, testingXpca, trainingYear, testingYear = train_test_split(clusterPCA, musicSubset['year'], test_size=0.20, random_state=42)\n",
    "trainingXpca, testingXpca, trainingDecade, testingDecade = train_test_split(clusterPCA, musicSubset['decade'], test_size=0.20, random_state=42)\n",
    "trainingXpca, testingXpca, trainingPeak, testingPeak = train_test_split(clusterPCA, musicSubset['max_rank'], test_size=0.20, random_state=42)\n",
    "trainingXpca, testingXpca, trainingWeeks, testingWeeks = train_test_split(clusterPCA, musicSubset['weeks'], test_size=0.20, random_state=42)\n",
    "regr = linear_model.LinearRegression()\n",
    "res = regr.fit(trainingXpca, trainingDecade)\n",
    "print(regr.score(testingXpca, testingDecade))"
   ]
  }
 ],
 "metadata": {
  "kernelspec": {
   "display_name": "Python 3",
   "language": "python",
   "name": "python3"
  },
  "language_info": {
   "codemirror_mode": {
    "name": "ipython",
    "version": 3
   },
   "file_extension": ".py",
   "mimetype": "text/x-python",
   "name": "python",
   "nbconvert_exporter": "python",
   "pygments_lexer": "ipython3",
   "version": "3.6.0"
  }
 },
 "nbformat": 4,
 "nbformat_minor": 2
}
